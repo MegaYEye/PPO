{
 "cells": [
  {
   "cell_type": "code",
   "execution_count": null,
   "metadata": {},
   "outputs": [],
   "source": [
    "#!/usr/bin/env python3\n",
    "import numpy as np\n",
    "import gym\n",
    "import os\n",
    "import multiprocessing\n",
    "\n",
    "import matplotlib.pyplot as plt\n",
    "import time\n",
    "from IPython import display\n",
    "%matplotlib notebook\n",
    "\n",
    "from stable_baselines.common.cmd_util import mujoco_arg_parser\n",
    "from stable_baselines import bench, logger\n",
    "from stable_baselines.common import set_global_seeds\n",
    "from stable_baselines.common.vec_env.vec_normalize import VecNormalize\n",
    "from stable_baselines.ppo2 import PPO2\n",
    "from stable_baselines.common.cmd_util import make_atari_env\n",
    "from stable_baselines.common.policies import CnnPolicy\n",
    "from stable_baselines.common.vec_env import VecFrameStack\n",
    "from stable_baselines.common.vec_env.dummy_vec_env import DummyVecEnv\n",
    "from stable_baselines.common.vec_env.subproc_vec_env import SubprocVecEnv\n",
    "from stable_baselines.results_plotter import load_results, ts2xy\n",
    "\n",
    "\n",
    "def train(env_id, num_timesteps, seed):\n",
    "    \"\"\"\n",
    "    Train PPO2 model for Mujoco environment, for testing purposes\n",
    "    :param env_id: (str) the environment id string\n",
    "    :param num_timesteps: (int) the number of timesteps to run\n",
    "    :param seed: (int) Used to seed the random generator.\n",
    "    \"\"\"\n",
    "\n",
    "    n_cpu = multiprocessing.cpu_count()\n",
    "    \n",
    "    print(\"CPUs:\", n_cpu)\n",
    "\n",
    "    env_out = make_atari_env(env_id, num_env=(n_cpu-6), seed=0)\n",
    "    #env_out = bench.Monitor(env_out, log_dir, allow_early_resets=True)\n",
    "    env = VecFrameStack(env_out, n_stack=4)\n",
    "\n",
    "    def callback(_locals, _globals):\n",
    "        global n_steps, best_mean_reward\n",
    "        print(\"Step:\", n_steps)\n",
    "\n",
    "        if (n_steps + 1) % 10 == 0:\n",
    "            print(\"Saving new model\")\n",
    "            _locals['self'].save(log_dir + \"mdoels/model_{}\".format(n_steps))\n",
    "        n_steps += 1\n",
    "        return False\n",
    "\n",
    "    set_global_seeds(seed)\n",
    "    policy = CnnPolicy\n",
    "    model = PPO2(policy=policy, env=env, n_steps=2048, nminibatches=1, lam=0.95, gamma=0.99, noptepochs=10,\n",
    "                 ent_coef=0.0, learning_rate=3e-4, cliprange=0.2, verbose=1, tensorboard_log=log_dir)\n",
    "    model.learn(total_timesteps=num_timesteps, callback=callback)\n",
    "    model.save(\"model_{}\".format(env_id))\n",
    "\n",
    "    return model, env"
   ]
  },
  {
   "cell_type": "code",
   "execution_count": null,
   "metadata": {
    "scrolled": true
   },
   "outputs": [],
   "source": [
    "env_id='BreakoutNoFrameskip-v4'\n",
    "num_timesteps=20000000\n",
    "seed=343\n",
    "best_mean_reward, n_steps = -np.inf, 0\n",
    "\n",
    "base_dir = '~/ppo_logs'\n",
    "os.makedirs(base_dir, exist_ok=True)\n",
    "prev = [f for f in os.listdir(base_dir) if env_id in f]\n",
    "log_dir = base_dir + '/{}-{}'.format(env_id, len(prev))\n",
    "os.makedirs(log_dir, exist_ok=True)\n",
    "os.makedirs(log_dir + '/models', exist_ok=True)\n",
    "\n",
    "print('Logging to {}'.format(log_dir))\n",
    "\n",
    "logger.configure()\n",
    "model, env = train(env_id, num_timesteps, seed)"
   ]
  },
  {
   "cell_type": "code",
   "execution_count": null,
   "metadata": {},
   "outputs": [],
   "source": []
  }
 ],
 "metadata": {
  "kernelspec": {
   "display_name": "Environment (conda_tensorflow_p36)",
   "language": "python",
   "name": "conda_tensorflow_p36"
  },
  "language_info": {
   "codemirror_mode": {
    "name": "ipython",
    "version": 3
   },
   "file_extension": ".py",
   "mimetype": "text/x-python",
   "name": "python",
   "nbconvert_exporter": "python",
   "pygments_lexer": "ipython3",
   "version": "3.6.6"
  }
 },
 "nbformat": 4,
 "nbformat_minor": 2
}
